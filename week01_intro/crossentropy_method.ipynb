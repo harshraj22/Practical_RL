{
 "cells": [
  {
   "cell_type": "markdown",
   "metadata": {},
   "source": [{
  "nbformat": 4,
  "nbformat_minor": 0,
  "metadata": {
    "colab": {
      "name": "crossentropy_method.ipynb",
      "provenance": []
    },
    "language_info": {
      "name": "python"
    },
    "kernelspec": {
      "name": "python3",
      "display_name": "Python 3"
    }
  },
  "cells": [
    {
      "cell_type": "markdown",
      "metadata": {
        "id": "JoVtQqD9AWzF"
      },
      "source": [
        "# Crossentropy method\n",
        "\n",
        "This notebook will teach you to solve reinforcement learning problems with crossentropy method. We'll follow-up by scaling everything up and using neural network policy."
      ]
    },
    {
      "cell_type": "code",
      "metadata": {
        "id": "UgdWfPFyAWzH",
        "outputId": "8cdb565a-1319-41f9-c2fe-6b66ed26abfc",
        "colab": {
          "base_uri": "https://localhost:8080/"
        }
      },
      "source": [
        "import sys, os\n",
        "if 'google.colab' in sys.modules and not os.path.exists('.setup_complete'):\n",
        "    !wget -q https://raw.githubusercontent.com/yandexdataschool/Practical_RL/master/setup_colab.sh -O- | bash\n",
        "    !touch .setup_complete\n",
        "\n",
        "# This code creates a virtual display to draw game images on.\n",
        "# It will have no effect if your machine has a monitor.\n",
        "if type(os.environ.get(\"DISPLAY\")) is not str or len(os.environ.get(\"DISPLAY\")) == 0:\n",
        "    !bash ../xvfb start\n",
        "    os.environ['DISPLAY'] = ':1'"
      ],
      "execution_count": 3,
      "outputs": [
        {
          "output_type": "stream",
          "name": "stdout",
          "text": [
            "Selecting previously unselected package xvfb.\n",
            "(Reading database ... 155013 files and directories currently installed.)\n",
            "Preparing to unpack .../xvfb_2%3a1.19.6-1ubuntu4.9_amd64.deb ...\n",
            "Unpacking xvfb (2:1.19.6-1ubuntu4.9) ...\n",
            "Setting up xvfb (2:1.19.6-1ubuntu4.9) ...\n",
            "Processing triggers for man-db (2.8.3-2ubuntu0.1) ...\n",
            "Starting virtual X frame buffer: Xvfb.\n"
          ]
        }
      ]
    },
    {
      "cell_type": "code",
      "metadata": {
        "id": "z3dtpkWZAWzI",
        "outputId": "4975a1a8-08f5-4741-f515-3cbc1dfb9a26",
        "colab": {
          "base_uri": "https://localhost:8080/"
        }
      },
      "source": [
        "import gym\n",
        "import numpy as np\n",
        "\n",
        "env = gym.make(\"Taxi-v3\")\n",
        "env.reset()\n",
        "env.render()"
      ],
      "execution_count": 4,
      "outputs": [
        {
          "output_type": "stream",
          "name": "stdout",
          "text": [
            "+---------+\n",
            "|\u001b[34;1mR\u001b[0m: | : :G|\n",
            "| : | : : |\n",
            "| : : : : |\n",
            "| | : |\u001b[43m \u001b[0m: |\n",
            "|Y| : |\u001b[35mB\u001b[0m: |\n",
            "+---------+\n",
            "\n"
          ]
        }
      ]
    },
    {
      "cell_type": "code",
      "metadata": {
        "id": "Irpx6qQ_AWzI",
        "outputId": "ce60ddd2-16a5-45db-eb85-32643908123a",
        "colab": {
          "base_uri": "https://localhost:8080/"
        }
      },
      "source": [
        "n_states = env.observation_space.n\n",
        "n_actions = env.action_space.n\n",
        "\n",
        "print(\"n_states=%i, n_actions=%i\" % (n_states, n_actions))"
      ],
      "execution_count": 5,
      "outputs": [
        {
          "output_type": "stream",
          "name": "stdout",
          "text": [
            "n_states=500, n_actions=6\n"
          ]
        }
      ]
    },
    {
      "cell_type": "markdown",
      "metadata": {
        "id": "pl4n7QxmAWzI"
      },
      "source": [
        "# Create stochastic policy\n",
        "\n",
        "This time our policy should be a probability distribution.\n",
        "\n",
        "```policy[s,a] = P(take action a | in state s)```\n",
        "\n",
        "Since we still use integer state and action representations, you can use a 2-dimensional array to represent the policy.\n",
        "\n",
        "Please initialize the policy __uniformly__, that is, probabililities of all actions should be equal."
      ]
    },
    {
      "cell_type": "code",
      "metadata": {
        "id": "IF5EFFRDAWzJ"
      },
      "source": [
        "def initialize_policy(n_states, n_actions):\n",
        "    # <YOUR CODE: create an array to store action probabilities>\n",
        "    # policy.shape: (n_states, n_actions)\n",
        "    policy = [[1./n_actions for _ in range(n_actions)] for _ in range(n_states)]\n",
        "\n",
        "    policy = np.array(policy)\n",
        "    return policy\n",
        "\n",
        "policy = initialize_policy(n_states, n_actions)"
      ],
      "execution_count": 41,
      "outputs": []
    },
    {
      "cell_type": "code",
      "metadata": {
        "id": "zslt5u2LO6zY",
        "outputId": "5252d168-8a84-4ed4-d0f4-06f5b05db8ff",
        "colab": {
          "base_uri": "https://localhost:8080/"
        }
      },
      "source": [
        "policy.shape"
      ],
      "execution_count": 33,
      "outputs": [
        {
          "output_type": "execute_result",
          "data": {
            "text/plain": [
              "(500, 6)"
            ]
          },
          "metadata": {},
          "execution_count": 33
        }
      ]
    },
    {
      "cell_type": "code",
      "metadata": {
        "id": "j2oIAKbEAWzJ"
      },
      "source": [
        "assert type(policy) in (np.ndarray, np.matrix)\n",
        "assert np.allclose(policy, 1./n_actions)\n",
        "assert np.allclose(np.sum(policy, axis=1), 1)"
      ],
      "execution_count": 34,
      "outputs": []
    },
    {
      "cell_type": "markdown",
      "metadata": {
        "id": "Jor6o22DAWzK"
      },
      "source": [
        "# Play the game\n",
        "\n",
        "Just like before, but we also record all states and actions we took."
      ]
    },
    {
      "cell_type": "code",
      "metadata": {
        "id": "fmvzCTP1AWzK"
      },
      "source": [
        "def generate_session(env, policy, t_max=10**4):\n",
        "    \"\"\"\n",
        "    Play game until end or for t_max ticks.\n",
        "    :param policy: an array of shape [n_states,n_actions] with action probabilities\n",
        "    :returns: list of states, list of actions and sum of rewards\n",
        "    \"\"\"\n",
        "    states, actions = [], []\n",
        "    total_reward = 0.\n",
        "\n",
        "    s = env.reset()\n",
        "\n",
        "    for t in range(t_max):\n",
        "        # Hint: you can use np.random.choice for sampling action\n",
        "        # https://numpy.org/doc/stable/reference/random/generated/numpy.random.choice.html\n",
        "        a = np.random.choice(n_actions, p=policy[s]) # <YOUR CODE: sample action from policy>\n",
        "\n",
        "        new_s, r, done, info = env.step(a)\n",
        "\n",
        "        # Record information we just got from the environment.\n",
        "        states.append(s)\n",
        "        actions.append(a)\n",
        "        total_reward += r\n",
        "\n",
        "        s = new_s\n",
        "        if done:\n",
        "            break\n",
        "\n",
        "    return states, actions, total_reward"
      ],
      "execution_count": 38,
      "outputs": []
    },
    {
      "cell_type": "code",
      "metadata": {
        "id": "7mTdSso6AWzL"
      },
      "source": [
        "s, a, r = generate_session(env, policy)\n",
        "assert type(s) == type(a) == list\n",
        "assert len(s) == len(a)\n",
        "assert type(r) in [float, np.float]"
      ],
      "execution_count": 39,
      "outputs": []
    },
    {
      "cell_type": "code",
      "metadata": {
        "id": "paOugaZVAWzL",
        "outputId": "7dc9c67d-dbdc-4db3-c088-7b2f9d7d6b3f",
        "colab": {
          "base_uri": "https://localhost:8080/",
          "height": 282
        }
      },
      "source": [
        "# let's see the initial reward distribution\n",
        "import matplotlib.pyplot as plt\n",
        "%matplotlib inline\n",
        "\n",
        "sample_rewards = [generate_session(env, policy, t_max=1000)[-1] for _ in range(200)]\n",
        "\n",
        "plt.hist(sample_rewards, bins=20)\n",
        "plt.vlines([np.percentile(sample_rewards, 50)], [0], [100], label=\"50'th percentile\", color='green')\n",
        "plt.vlines([np.percentile(sample_rewards, 90)], [0], [100], label=\"90'th percentile\", color='red')\n",
        "plt.legend()"
      ],
      "execution_count": 40,
      "outputs": [
        {
          "output_type": "execute_result",
          "data": {
            "text/plain": [
              "<matplotlib.legend.Legend at 0x7fb054b0dd50>"
            ]
          },
          "metadata": {},
          "execution_count": 40
        },
        {
          "output_type": "display_data",
          "data": {
            "image/png": "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\n",
            "text/plain": [
              "<Figure size 432x288 with 1 Axes>"
            ]
          },
          "metadata": {
            "needs_background": "light"
          }
        }
      ]
    },
    {
      "cell_type": "markdown",
      "metadata": {
        "id": "nwGbGfbYAWzL"
      },
      "source": [
        "### Crossentropy method steps"
      ]
    },
    {
      "cell_type": "code",
      "metadata": {
        "id": "8Le03metAWzM"
      },
      "source": [
        "def select_elites(states_batch, actions_batch, rewards_batch, percentile):\n",
        "    \"\"\"\n",
        "    Select states and actions from games that have rewards >= percentile\n",
        "    :param states_batch: list of lists of states, states_batch[session_i][t]\n",
        "    :param actions_batch: list of lists of actions, actions_batch[session_i][t]\n",
        "    :param rewards_batch: list of rewards, rewards_batch[session_i]\n",
        "\n",
        "    :returns: elite_states,elite_actions, both 1D lists of states and respective actions from elite sessions\n",
        "\n",
        "    Please return elite states and actions in their original order \n",
        "    [i.e. sorted by session number and timestep within session]\n",
        "\n",
        "    If you are confused, see examples below. Please don't assume that states are integers\n",
        "    (they will become different later).\n",
        "    \"\"\"\n",
        "\n",
        "    reward_threshold = np.percentile(rewards_batch, percentile) # <YOUR CODE: compute minimum reward for elite sessions. Hint: use np.percentile()>\n",
        "\n",
        "    elite_states = [] #<YOUR CODE>\n",
        "    elite_actions = [] #<YOUR CODE>\n",
        "    for index, reward in enumerate(rewards_batch):\n",
        "      if reward < reward_threshold:\n",
        "        continue\n",
        "      elite_states.extend(states_batch[index])\n",
        "      elite_actions.extend(actions_batch[index])\n",
        "\n",
        "    return elite_states, elite_actions"
      ],
      "execution_count": 45,
      "outputs": []
    },
    {
      "cell_type": "code",
      "metadata": {
        "id": "3rxUEGh2AWzM",
        "outputId": "d9d0461e-5ecd-4f8b-e17e-7d1a9724c039",
        "colab": {
          "base_uri": "https://localhost:8080/"
        }
      },
      "source": [
        "states_batch = [\n",
        "    [1, 2, 3],     # game1\n",
        "    [4, 2, 0, 2],  # game2\n",
        "    [3, 1],        # game3\n",
        "]\n",
        "\n",
        "actions_batch = [\n",
        "    [0, 2, 4],     # game1\n",
        "    [3, 2, 0, 1],  # game2\n",
        "    [3, 3],        # game3\n",
        "]\n",
        "rewards_batch = [\n",
        "    3,  # game1\n",
        "    4,  # game2\n",
        "    5,  # game3\n",
        "]\n",
        "\n",
        "test_result_0 = select_elites(states_batch, actions_batch, rewards_batch, percentile=0)\n",
        "test_result_30 = select_elites(states_batch, actions_batch, rewards_batch, percentile=30)\n",
        "test_result_90 = select_elites(states_batch, actions_batch, rewards_batch, percentile=90)\n",
        "test_result_100 = select_elites(states_batch, actions_batch, rewards_batch, percentile=100)\n",
        "\n",
        "# print(test_result_0)\n",
        "\n",
        "assert np.all(test_result_0[0] == [1, 2, 3, 4, 2, 0, 2, 3, 1])  \\\n",
        "    and np.all(test_result_0[1] == [0, 2, 4, 3, 2, 0, 1, 3, 3]), \\\n",
        "    \"For percentile 0 you should return all states and actions in chronological order\"\n",
        "assert np.all(test_result_30[0] == [4, 2, 0, 2, 3, 1]) and \\\n",
        "    np.all(test_result_30[1] == [3, 2, 0, 1, 3, 3]), \\\n",
        "    \"For percentile 30 you should only select states/actions from two first\"\n",
        "assert np.all(test_result_90[0] == [3, 1]) and \\\n",
        "    np.all(test_result_90[1] == [3, 3]), \\\n",
        "    \"For percentile 90 you should only select states/actions from one game\"\n",
        "assert np.all(test_result_100[0] == [3, 1]) and\\\n",
        "    np.all(test_result_100[1] == [3, 3]), \\\n",
        "    \"Please make sure you use >=, not >. Also double-check how you compute percentile.\"\n",
        "\n",
        "print(\"Ok!\")"
      ],
      "execution_count": 47,
      "outputs": [
        {
          "output_type": "stream",
          "name": "stdout",
          "text": [
            "Ok!\n"
          ]
        }
      ]
    },
    {
      "cell_type": "code",
      "metadata": {
        "id": "rgD1kwEJAWzM"
      },
      "source": [
        "def get_new_policy(elite_states, elite_actions):\n",
        "    \"\"\"\n",
        "    Given a list of elite states/actions from select_elites,\n",
        "    return a new policy where each action probability is proportional to\n",
        "\n",
        "        policy[s_i,a_i] ~ #[occurrences of s_i and a_i in elite states/actions]\n",
        "\n",
        "    Don't forget to normalize the policy to get valid probabilities and handle the 0/0 case.\n",
        "    For states that you never visited, use a uniform distribution (1/n_actions for all states).\n",
        "\n",
        "    :param elite_states: 1D list of states from elite sessions\n",
        "    :param elite_actions: 1D list of actions from elite sessions\n",
        "\n",
        "    \"\"\"\n",
        "\n",
        "    from collections import defaultdict\n",
        "    # counter = defaultdict(lambda: 0)\n",
        "\n",
        "    # for state in chain(elite_states, elite_actions):\n",
        "    #   counter[state] += 1\n",
        "\n",
        "    new_policy = np.zeros([n_states, n_actions])\n",
        "    for state, action in zip(elite_states, elite_actions):\n",
        "      new_policy[state][action] += 1\n",
        "\n",
        "    for state, policy in enumerate(new_policy):\n",
        "      if policy.max() > 0.0:\n",
        "        new_policy[state] = policy / policy.sum()\n",
        "      else:\n",
        "        new_policy[state] = np.full(n_actions, 1./n_actions)\n",
        "    # <YOUR CODE: set probabilities for actions given elite states & actions>\n",
        "    # Don't forget to set 1/n_actions for all actions in unvisited states.\n",
        "\n",
        "    return new_policy"
      ],
      "execution_count": 57,
      "outputs": []
    },
    {
      "cell_type": "code",
      "metadata": {
        "id": "4O_Z7KVWAWzM",
        "outputId": "23b53244-caba-484c-d46a-7a04dee87939",
        "colab": {
          "base_uri": "https://localhost:8080/"
        }
      },
      "source": [
        "elite_states = [1, 2, 3, 4, 2, 0, 2, 3, 1]\n",
        "elite_actions = [0, 2, 4, 3, 2, 0, 1, 3, 3]\n",
        "\n",
        "new_policy = get_new_policy(elite_states, elite_actions)\n",
        "\n",
        "assert np.isfinite(new_policy).all(), \\\n",
        "    \"Your new policy contains NaNs or +-inf. Make sure you don't divide by zero.\"\n",
        "assert np.all(new_policy >= 0), \\\n",
        "    \"Your new policy can't have negative action probabilities\"\n",
        "assert np.allclose(new_policy.sum(axis=-1), 1), \\\n",
        "    \"Your new policy should be a valid probability distribution over actions\"\n",
        "\n",
        "reference_answer = np.array([\n",
        "    [1.,  0.,  0.,  0.,  0.],\n",
        "    [0.5,  0.,  0.,  0.5,  0.],\n",
        "    [0.,  0.33333333,  0.66666667,  0.,  0.],\n",
        "    [0.,  0.,  0.,  0.5,  0.5]])\n",
        "assert np.allclose(new_policy[:4, :5], reference_answer)\n",
        "\n",
        "print(\"Ok!\")"
      ],
      "execution_count": 59,
      "outputs": [
        {
          "output_type": "stream",
          "name": "stdout",
          "text": [
            "Ok!\n"
          ]
        }
      ]
    },
    {
      "cell_type": "markdown",
      "metadata": {
        "id": "6wFD6jWpAWzN"
      },
      "source": [
        "# Training loop\n",
        "Generate sessions, select N best and fit to those."
      ]
    },
    {
      "cell_type": "code",
      "metadata": {
        "id": "wAe1vXXsAWzN"
      },
      "source": [
        "from IPython.display import clear_output\n",
        "\n",
        "def show_progress(rewards_batch, log, percentile, reward_range=[-990, +10]):\n",
        "    \"\"\"\n",
        "    A convenience function that displays training progress. \n",
        "    No cool math here, just charts.\n",
        "    \"\"\"\n",
        "\n",
        "    mean_reward = np.mean(rewards_batch)\n",
        "    threshold = np.percentile(rewards_batch, percentile)\n",
        "    log.append([mean_reward, threshold])\n",
        "    \n",
        "    plt.figure(figsize=[8, 4])\n",
        "    plt.subplot(1, 2, 1)\n",
        "    plt.plot(list(zip(*log))[0], label='Mean rewards')\n",
        "    plt.plot(list(zip(*log))[1], label='Reward thresholds')\n",
        "    plt.legend()\n",
        "    plt.grid()\n",
        "\n",
        "    plt.subplot(1, 2, 2)\n",
        "    plt.hist(rewards_batch, range=reward_range)\n",
        "    plt.vlines([np.percentile(rewards_batch, percentile)],\n",
        "               [0], [100], label=\"percentile\", color='red')\n",
        "    plt.legend()\n",
        "    plt.grid()\n",
        "    clear_output(True)\n",
        "    print(\"mean reward = %.3f, threshold=%.3f\" % (mean_reward, threshold))\n",
        "    plt.show()"
      ],
      "execution_count": 60,
      "outputs": []
    },
    {
      "cell_type": "code",
      "metadata": {
        "id": "YfLx89uZAWzN"
      },
      "source": [
        "# reset policy just in case\n",
        "policy = initialize_policy(n_states, n_actions)"
      ],
      "execution_count": 61,
      "outputs": []
    },
    {
      "cell_type": "code",
      "metadata": {
        "id": "jYq0_1IEAWzN",
        "outputId": "9d9c5e66-96f5-41a0-e77b-3e66d4624d18",
        "colab": {
          "base_uri": "https://localhost:8080/",
          "height": 282
        }
      },
      "source": [
        "n_sessions = 250     # sample this many sessions\n",
        "percentile = 50      # take this percent of session with highest rewards\n",
        "learning_rate = 0.5  # how quickly the policy is updated, on a scale from 0 to 1\n",
        "\n",
        "log = []\n",
        "\n",
        "for i in range(100):\n",
        "    %time sessions = [ generate_session(env, policy, t_max=10**4) for _ in range(n_sessions) ]\n",
        "    # [ <YOUR CODE: generate a list of n_sessions new sessions> ]\n",
        "\n",
        "    states_batch, actions_batch, rewards_batch = zip(*sessions)\n",
        "\n",
        "    elite_states, elite_actions = select_elites(states_batch, actions_batch, rewards_batch, percentile=50)\n",
        "    # <YOUR CODE: select elite states & actions>\n",
        "\n",
        "    new_policy = get_new_policy(elite_states, elite_actions)\n",
        "    # <YOUR CODE: compute new policy>\n",
        "\n",
        "    policy = learning_rate * new_policy + (1 - learning_rate) * policy\n",
        "\n",
        "    # display results on chart\n",
        "    show_progress(rewards_batch, log, percentile)"
      ],
      "execution_count": 64,
      "outputs": [
        {
          "output_type": "stream",
          "name": "stdout",
          "text": [
            "mean reward = -97.784, threshold=5.000\n"
          ]
        },
        {
          "output_type": "display_data",
          "data": {
            "image/png": "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\n",
            "text/plain": [
              "<Figure size 576x288 with 2 Axes>"
            ]
          },
          "metadata": {
            "needs_background": "light"
          }
        }
      ]
    },
    {
      "cell_type": "markdown",
      "metadata": {
        "id": "xTUlqQX0AWzN"
      },
      "source": [
        "### Reflecting on results\n",
        "\n",
        "You may have noticed that the taxi problem quickly converges from less than -1000 to a near-optimal score and then descends back into -50/-100. This is in part because the environment has some innate randomness. Namely, the starting points of passenger/driver change from episode to episode.\n",
        "\n",
        "In case CEM failed to learn how to win from one distinct starting point, it will simply discard it because no sessions from that starting point will make it into the \"elites\".\n",
        "\n",
        "To mitigate that problem, you can either reduce the threshold for elite sessions (duct tape way) or change the way you evaluate strategy (theoretically correct way). For each starting state, you can sample an action randomly, and then evaluate this action by running _several_ games starting from it and averaging the total reward. Choosing elite sessions with this kind of sampling (where each session's reward is counted as the average of the rewards of all sessions with the same starting state and action) should improve the performance of your policy."
      ]
    },
    {
      "cell_type": "markdown",
      "metadata": {
        "id": "_04UG1sZAWzN"
      },
      "source": [
        "\n",
        "### You're not done yet!\n",
        "\n",
        "Go to [`./deep_crossentropy_method.ipynb`](./deep_crossentropy_method.ipynb) for a more serious task"
      ]
    }
  ]
}
    "# Crossentropy method\n",
    "\n",
    "This notebook will teach you to solve reinforcement learning problems with crossentropy method. We'll follow-up by scaling everything up and using neural network policy."
   ]
  },
  {
   "cell_type": "code",
   "execution_count": null,
   "metadata": {},
   "outputs": [],
   "source": [
    "import sys, os\n",
    "if 'google.colab' in sys.modules and not os.path.exists('.setup_complete'):\n",
    "    !wget -q https://raw.githubusercontent.com/yandexdataschool/Practical_RL/master/setup_colab.sh -O- | bash\n",
    "    !touch .setup_complete\n",
    "\n",
    "# This code creates a virtual display to draw game images on.\n",
    "# It will have no effect if your machine has a monitor.\n",
    "if type(os.environ.get(\"DISPLAY\")) is not str or len(os.environ.get(\"DISPLAY\")) == 0:\n",
    "    !bash ../xvfb start\n",
    "    os.environ['DISPLAY'] = ':1'"
   ]
  },
  {
   "cell_type": "code",
   "execution_count": null,
   "metadata": {},
   "outputs": [],
   "source": [
    "import gym\n",
    "import numpy as np\n",
    "\n",
    "env = gym.make(\"Taxi-v3\")\n",
    "env.reset()\n",
    "env.render()"
   ]
  },
  {
   "cell_type": "code",
   "execution_count": null,
   "metadata": {},
   "outputs": [],
   "source": [
    "n_states = env.observation_space.n\n",
    "n_actions = env.action_space.n\n",
    "\n",
    "print(\"n_states=%i, n_actions=%i\" % (n_states, n_actions))"
   ]
  },
  {
   "cell_type": "markdown",
   "metadata": {},
   "source": [
    "# Create stochastic policy\n",
    "\n",
    "This time our policy should be a probability distribution.\n",
    "\n",
    "```policy[s,a] = P(take action a | in state s)```\n",
    "\n",
    "Since we still use integer state and action representations, you can use a 2-dimensional array to represent the policy.\n",
    "\n",
    "Please initialize the policy __uniformly__, that is, probabililities of all actions should be equal."
   ]
  },
  {
   "cell_type": "code",
   "execution_count": null,
   "metadata": {},
   "outputs": [],
   "source": [
    "def initialize_policy(n_states, n_actions):\n",
    "    <YOUR CODE: create an array to store action probabilities>\n",
    "    \n",
    "    return policy\n",
    "\n",
    "policy = initialize_policy(n_states, n_actions)"
   ]
  },
  {
   "cell_type": "code",
   "execution_count": null,
   "metadata": {},
   "outputs": [],
   "source": [
    "assert type(policy) in (np.ndarray, np.matrix)\n",
    "assert np.allclose(policy, 1./n_actions)\n",
    "assert np.allclose(np.sum(policy, axis=1), 1)"
   ]
  },
  {
   "cell_type": "markdown",
   "metadata": {},
   "source": [
    "# Play the game\n",
    "\n",
    "Just like before, but we also record all states and actions we took."
   ]
  },
  {
   "cell_type": "code",
   "execution_count": null,
   "metadata": {},
   "outputs": [],
   "source": [
    "def generate_session(env, policy, t_max=10**4):\n",
    "    \"\"\"\n",
    "    Play game until end or for t_max ticks.\n",
    "    :param policy: an array of shape [n_states,n_actions] with action probabilities\n",
    "    :returns: list of states, list of actions and sum of rewards\n",
    "    \"\"\"\n",
    "    states, actions = [], []\n",
    "    total_reward = 0.\n",
    "\n",
    "    s = env.reset()\n",
    "\n",
    "    for t in range(t_max):\n",
    "        # Hint: you can use np.random.choice for sampling action\n",
    "        # https://numpy.org/doc/stable/reference/random/generated/numpy.random.choice.html\n",
    "        a = <YOUR CODE: sample action from policy>\n",
    "\n",
    "        new_s, r, done, info = env.step(a)\n",
    "\n",
    "        # Record information we just got from the environment.\n",
    "        states.append(s)\n",
    "        actions.append(a)\n",
    "        total_reward += r\n",
    "\n",
    "        s = new_s\n",
    "        if done:\n",
    "            break\n",
    "\n",
    "    return states, actions, total_reward"
   ]
  },
  {
   "cell_type": "code",
   "execution_count": null,
   "metadata": {},
   "outputs": [],
   "source": [
    "s, a, r = generate_session(env, policy)\n",
    "assert type(s) == type(a) == list\n",
    "assert len(s) == len(a)\n",
    "assert type(r) in [float, np.float]"
   ]
  },
  {
   "cell_type": "code",
   "execution_count": null,
   "metadata": {},
   "outputs": [],
   "source": [
    "# let's see the initial reward distribution\n",
    "import matplotlib.pyplot as plt\n",
    "%matplotlib inline\n",
    "\n",
    "sample_rewards = [generate_session(env, policy, t_max=1000)[-1] for _ in range(200)]\n",
    "\n",
    "plt.hist(sample_rewards, bins=20)\n",
    "plt.vlines([np.percentile(sample_rewards, 50)], [0], [100], label=\"50'th percentile\", color='green')\n",
    "plt.vlines([np.percentile(sample_rewards, 90)], [0], [100], label=\"90'th percentile\", color='red')\n",
    "plt.legend()"
   ]
  },
  {
   "cell_type": "markdown",
   "metadata": {},
   "source": [
    "### Crossentropy method steps"
   ]
  },
  {
   "cell_type": "code",
   "execution_count": null,
   "metadata": {},
   "outputs": [],
   "source": [
    "def select_elites(states_batch, actions_batch, rewards_batch, percentile):\n",
    "    \"\"\"\n",
    "    Select states and actions from games that have rewards >= percentile\n",
    "    :param states_batch: list of lists of states, states_batch[session_i][t]\n",
    "    :param actions_batch: list of lists of actions, actions_batch[session_i][t]\n",
    "    :param rewards_batch: list of rewards, rewards_batch[session_i]\n",
    "\n",
    "    :returns: elite_states,elite_actions, both 1D lists of states and respective actions from elite sessions\n",
    "\n",
    "    Please return elite states and actions in their original order \n",
    "    [i.e. sorted by session number and timestep within session]\n",
    "\n",
    "    If you are confused, see examples below. Please don't assume that states are integers\n",
    "    (they will become different later).\n",
    "    \"\"\"\n",
    "\n",
    "    reward_threshold = <YOUR CODE: compute minimum reward for elite sessions. Hint: use np.percentile()>\n",
    "\n",
    "    elite_states = <YOUR CODE>\n",
    "    elite_actions = <YOUR CODE>\n",
    "\n",
    "    return elite_states, elite_actions"
   ]
  },
  {
   "cell_type": "code",
   "execution_count": null,
   "metadata": {},
   "outputs": [],
   "source": [
    "states_batch = [\n",
    "    [1, 2, 3],     # game1\n",
    "    [4, 2, 0, 2],  # game2\n",
    "    [3, 1],        # game3\n",
    "]\n",
    "\n",
    "actions_batch = [\n",
    "    [0, 2, 4],     # game1\n",
    "    [3, 2, 0, 1],  # game2\n",
    "    [3, 3],        # game3\n",
    "]\n",
    "rewards_batch = [\n",
    "    3,  # game1\n",
    "    4,  # game2\n",
    "    5,  # game3\n",
    "]\n",
    "\n",
    "test_result_0 = select_elites(states_batch, actions_batch, rewards_batch, percentile=0)\n",
    "test_result_30 = select_elites(states_batch, actions_batch, rewards_batch, percentile=30)\n",
    "test_result_90 = select_elites(states_batch, actions_batch, rewards_batch, percentile=90)\n",
    "test_result_100 = select_elites(states_batch, actions_batch, rewards_batch, percentile=100)\n",
    "\n",
    "assert np.all(test_result_0[0] == [1, 2, 3, 4, 2, 0, 2, 3, 1])  \\\n",
    "    and np.all(test_result_0[1] == [0, 2, 4, 3, 2, 0, 1, 3, 3]), \\\n",
    "    \"For percentile 0 you should return all states and actions in chronological order\"\n",
    "assert np.all(test_result_30[0] == [4, 2, 0, 2, 3, 1]) and \\\n",
    "    np.all(test_result_30[1] == [3, 2, 0, 1, 3, 3]), \\\n",
    "    \"For percentile 30 you should only select states/actions from two first\"\n",
    "assert np.all(test_result_90[0] == [3, 1]) and \\\n",
    "    np.all(test_result_90[1] == [3, 3]), \\\n",
    "    \"For percentile 90 you should only select states/actions from one game\"\n",
    "assert np.all(test_result_100[0] == [3, 1]) and\\\n",
    "    np.all(test_result_100[1] == [3, 3]), \\\n",
    "    \"Please make sure you use >=, not >. Also double-check how you compute percentile.\"\n",
    "\n",
    "print(\"Ok!\")"
   ]
  },
  {
   "cell_type": "code",
   "execution_count": null,
   "metadata": {},
   "outputs": [],
   "source": [
    "def get_new_policy(elite_states, elite_actions):\n",
    "    \"\"\"\n",
    "    Given a list of elite states/actions from select_elites,\n",
    "    return a new policy where each action probability is proportional to\n",
    "\n",
    "        policy[s_i,a_i] ~ #[occurrences of s_i and a_i in elite states/actions]\n",
    "\n",
    "    Don't forget to normalize the policy to get valid probabilities and handle the 0/0 case.\n",
    "    For states that you never visited, use a uniform distribution (1/n_actions for all states).\n",
    "\n",
    "    :param elite_states: 1D list of states from elite sessions\n",
    "    :param elite_actions: 1D list of actions from elite sessions\n",
    "\n",
    "    \"\"\"\n",
    "\n",
    "    new_policy = np.zeros([n_states, n_actions])\n",
    "\n",
    "    <YOUR CODE: set probabilities for actions given elite states & actions>\n",
    "    # Don't forget to set 1/n_actions for all actions in unvisited states.\n",
    "\n",
    "    return new_policy"
   ]
  },
  {
   "cell_type": "code",
   "execution_count": null,
   "metadata": {},
   "outputs": [],
   "source": [
    "elite_states = [1, 2, 3, 4, 2, 0, 2, 3, 1]\n",
    "elite_actions = [0, 2, 4, 3, 2, 0, 1, 3, 3]\n",
    "\n",
    "new_policy = get_new_policy(elite_states, elite_actions)\n",
    "\n",
    "assert np.isfinite(new_policy).all(), \\\n",
    "    \"Your new policy contains NaNs or +-inf. Make sure you don't divide by zero.\"\n",
    "assert np.all(new_policy >= 0), \\\n",
    "    \"Your new policy can't have negative action probabilities\"\n",
    "assert np.allclose(new_policy.sum(axis=-1), 1), \\\n",
    "    \"Your new policy should be a valid probability distribution over actions\"\n",
    "\n",
    "reference_answer = np.array([\n",
    "    [1.,  0.,  0.,  0.,  0.],\n",
    "    [0.5,  0.,  0.,  0.5,  0.],\n",
    "    [0.,  0.33333333,  0.66666667,  0.,  0.],\n",
    "    [0.,  0.,  0.,  0.5,  0.5]])\n",
    "assert np.allclose(new_policy[:4, :5], reference_answer)\n",
    "\n",
    "print(\"Ok!\")"
   ]
  },
  {
   "cell_type": "markdown",
   "metadata": {},
   "source": [
    "# Training loop\n",
    "Generate sessions, select N best and fit to those."
   ]
  },
  {
   "cell_type": "code",
   "execution_count": null,
   "metadata": {},
   "outputs": [],
   "source": [
    "from IPython.display import clear_output\n",
    "\n",
    "def show_progress(rewards_batch, log, percentile, reward_range=[-990, +10]):\n",
    "    \"\"\"\n",
    "    A convenience function that displays training progress. \n",
    "    No cool math here, just charts.\n",
    "    \"\"\"\n",
    "\n",
    "    mean_reward = np.mean(rewards_batch)\n",
    "    threshold = np.percentile(rewards_batch, percentile)\n",
    "    log.append([mean_reward, threshold])\n",
    "    \n",
    "    plt.figure(figsize=[8, 4])\n",
    "    plt.subplot(1, 2, 1)\n",
    "    plt.plot(list(zip(*log))[0], label='Mean rewards')\n",
    "    plt.plot(list(zip(*log))[1], label='Reward thresholds')\n",
    "    plt.legend()\n",
    "    plt.grid()\n",
    "\n",
    "    plt.subplot(1, 2, 2)\n",
    "    plt.hist(rewards_batch, range=reward_range)\n",
    "    plt.vlines([np.percentile(rewards_batch, percentile)],\n",
    "               [0], [100], label=\"percentile\", color='red')\n",
    "    plt.legend()\n",
    "    plt.grid()\n",
    "    clear_output(True)\n",
    "    print(\"mean reward = %.3f, threshold=%.3f\" % (mean_reward, threshold))\n",
    "    plt.show()"
   ]
  },
  {
   "cell_type": "code",
   "execution_count": null,
   "metadata": {},
   "outputs": [],
   "source": [
    "# reset policy just in case\n",
    "policy = initialize_policy(n_states, n_actions)"
   ]
  },
  {
   "cell_type": "code",
   "execution_count": null,
   "metadata": {},
   "outputs": [],
   "source": [
    "n_sessions = 250     # sample this many sessions\n",
    "percentile = 50      # take this percent of session with highest rewards\n",
    "learning_rate = 0.5  # how quickly the policy is updated, on a scale from 0 to 1\n",
    "\n",
    "log = []\n",
    "\n",
    "for i in range(100):\n",
    "    %time sessions = [ <YOUR CODE: generate a list of n_sessions new sessions> ]\n",
    "\n",
    "    states_batch, actions_batch, rewards_batch = zip(*sessions)\n",
    "\n",
    "    elite_states, elite_actions = <YOUR CODE: select elite states & actions>\n",
    "\n",
    "    new_policy = <YOUR CODE: compute new policy>\n",
    "\n",
    "    policy = learning_rate * new_policy + (1 - learning_rate) * policy\n",
    "\n",
    "    # display results on chart\n",
    "    show_progress(rewards_batch, log, percentile)"
   ]
  },
  {
   "cell_type": "markdown",
   "metadata": {},
   "source": [
    "### Reflecting on results\n",
    "\n",
    "You may have noticed that the taxi problem quickly converges from less than -1000 to a near-optimal score and then descends back into -50/-100. This is in part because the environment has some innate randomness. Namely, the starting points of passenger/driver change from episode to episode.\n",
    "\n",
    "In case CEM failed to learn how to win from one distinct starting point, it will simply discard it because no sessions from that starting point will make it into the \"elites\".\n",
    "\n",
    "To mitigate that problem, you can either reduce the threshold for elite sessions (duct tape way) or change the way you evaluate strategy (theoretically correct way). For each starting state, you can sample an action randomly, and then evaluate this action by running _several_ games starting from it and averaging the total reward. Choosing elite sessions with this kind of sampling (where each session's reward is counted as the average of the rewards of all sessions with the same starting state and action) should improve the performance of your policy."
   ]
  },
  {
   "cell_type": "markdown",
   "metadata": {},
   "source": [
    "\n",
    "### You're not done yet!\n",
    "\n",
    "Go to [`./deep_crossentropy_method.ipynb`](./deep_crossentropy_method.ipynb) for a more serious task"
   ]
  }
 ],
 "metadata": {
  "language_info": {
   "name": "python",
   "pygments_lexer": "ipython3"
  }
 },
 "nbformat": 4,
 "nbformat_minor": 1
}
